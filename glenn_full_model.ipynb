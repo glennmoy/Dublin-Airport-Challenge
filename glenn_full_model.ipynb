{
 "cells": [
  {
   "cell_type": "code",
   "execution_count": 30,
   "metadata": {
    "collapsed": true
   },
   "outputs": [],
   "source": [
    "import numpy as np \n",
    "from math import *\n",
    "import random\n",
    "import pandas as pd \n",
    "import seaborn as sns\n",
    "sns.set(color_codes=True)\n",
    "import matplotlib.pyplot as plt\n",
    "from scipy.interpolate import spline\n",
    "from sklearn.metrics import mean_squared_error\n",
    "import datetime\n",
    "\n",
    "from sklearn.neighbors import NearestNeighbors\n",
    "\n",
    "%matplotlib inline\n",
    "\n",
    "from IPython.core.display import HTML\n",
    "HTML(\"\"\"\n",
    "<style>\n",
    ".output_png {\n",
    "    display: table-cell;\n",
    "    text-align: center;\n",
    "    vertical-align: middle;\n",
    "}\n",
    "</style>\n",
    "\"\"\")\n",
    "\n",
    "import matplotlib\n",
    "matplotlib.style.use('ggplot')\n",
    "pd.options.display.max_rows = 100\n",
    "\n",
    "import warnings\n",
    "%config InlineBackend.figure_format = 'png' #set 'png' here when working on notebook\n",
    "warnings.filterwarnings('ignore')"
   ]
  },
  {
   "cell_type": "code",
   "execution_count": null,
   "metadata": {
    "collapsed": true
   },
   "outputs": [],
   "source": []
  },
  {
   "cell_type": "markdown",
   "metadata": {
    "collapsed": true
   },
   "source": [
    "### Initial Variables\n"
   ]
  },
  {
   "cell_type": "code",
   "execution_count": 31,
   "metadata": {
    "collapsed": true
   },
   "outputs": [],
   "source": [
    "########################################################\n",
    "# Define variables which we will use later in the script\n",
    "########################################################\n",
    "\n",
    "# Number of nearest neighbours\n",
    "nn=40\n",
    "\n",
    "###################################\n",
    "# Columns of interest for later use\n",
    "###################################\n",
    "\n",
    "\n",
    "parse_date_cols = ['dt_prediction_date', 'dt_target_date', 'dt_flight_date']\n",
    "\n",
    "pax_list=[\"num_pax_000_014_mins_before_sdt\",\"num_pax_015_029_mins_before_sdt\",\\\n",
    "          \"num_pax_030_044_mins_before_sdt\",\"num_pax_045_059_mins_before_sdt\",\\\n",
    "          \"num_pax_060_074_mins_before_sdt\",\"num_pax_075_089_mins_before_sdt\",\\\n",
    "          \"num_pax_090_104_mins_before_sdt\",\"num_pax_105_119_mins_before_sdt\",\\\n",
    "          \"num_pax_120_134_mins_before_sdt\",\"num_pax_135_149_mins_before_sdt\",\\\n",
    "          \"num_pax_150_164_mins_before_sdt\",\"num_pax_165_179_mins_before_sdt\",\\\n",
    "          \"num_pax_180_194_mins_before_sdt\",\"num_pax_195_209_mins_before_sdt\",\\\n",
    "          \"num_pax_210_224_mins_before_sdt\",\"num_pax_225_239_mins_before_sdt\",\\\n",
    "          \"num_pax_240plus_mins_before_sdt\"]\n",
    "\n",
    "period=np.array([12,52,7,24])\n",
    "\n",
    "                     # \"cat_sdt_hour\",\"cat_i_airport\",\\\n",
    "                     # \"cat_i_city\",\"cat_destination_group_id\",\"cat_longhaul_ind\",\\\n",
    "                     # \"cat_flight_class_type_id\",\\\n",
    "            \n",
    "            \n",
    "cat_list=[\"cat_destination_group_id\"]    \n",
    "    \n",
    "ord_list=[\"ord_leisure\",\"ord_irish_residents\",\"ord_trip_duration\",\\\n",
    "          \"ord_female\",\"ord_party_size\",\"ord_bag_checkin\",\"ord_arrive_by_car\"]\n",
    "\n",
    "interesting_cols=[\"num_flight_month\",\"num_flight_weekofyear\",\\\n",
    "                  \"num_flight_dayofweek\",\\\n",
    "                  \"ord_leisure\",\"ord_irish_residents\",\"ord_trip_duration\",\\\n",
    "                  \"ord_female\",\"ord_party_size\",\"ord_bag_checkin\",\"ord_arrive_by_car\"]\n",
    "\n",
    "\n",
    "cols=[\"id\"]+pax_list"
   ]
  },
  {
   "cell_type": "code",
   "execution_count": 34,
   "metadata": {
    "collapsed": true
   },
   "outputs": [],
   "source": [
    "df_train = pd.read_csv(\"./train.csv\", parse_dates = parse_date_cols)"
   ]
  },
  {
   "cell_type": "code",
   "execution_count": 35,
   "metadata": {
    "collapsed": false
   },
   "outputs": [
    {
     "name": "stdout",
     "output_type": "stream",
     "text": [
      "   id dt_prediction_date dt_target_date s_model_type cat_case_type  \\\n",
      "0   1         2013-01-01     2014-01-01     52_weeks        Target   \n",
      "\n",
      "   cat_i_flightno dt_flight_date  num_flight_year  num_flight_month  \\\n",
      "0           11075     2014-01-01             2014                 1   \n",
      "\n",
      "   num_flight_weekofyear               ...                 \\\n",
      "0                      1               ...                  \n",
      "\n",
      "   num_pax_105_119_mins_before_sdt  num_pax_120_134_mins_before_sdt  \\\n",
      "0                               12                               12   \n",
      "\n",
      "   num_pax_135_149_mins_before_sdt  num_pax_150_164_mins_before_sdt  \\\n",
      "0                                0                                0   \n",
      "\n",
      "   num_pax_165_179_mins_before_sdt  num_pax_180_194_mins_before_sdt  \\\n",
      "0                                0                                0   \n",
      "\n",
      "   num_pax_195_209_mins_before_sdt  num_pax_210_224_mins_before_sdt  \\\n",
      "0                                0                                0   \n",
      "\n",
      "   num_pax_225_239_mins_before_sdt  num_pax_240plus_mins_before_sdt  \n",
      "0                                0                                0  \n",
      "\n",
      "[1 rows x 46 columns]\n"
     ]
    }
   ],
   "source": [
    "print(df_train.head(1))"
   ]
  },
  {
   "cell_type": "code",
   "execution_count": null,
   "metadata": {
    "collapsed": false
   },
   "outputs": [],
   "source": [
    "\n"
   ]
  },
  {
   "cell_type": "markdown",
   "metadata": {
    "collapsed": false
   },
   "source": [
    "### Function to Normalise Data"
   ]
  },
  {
   "cell_type": "code",
   "execution_count": 32,
   "metadata": {
    "collapsed": false
   },
   "outputs": [],
   "source": [
    "def normalise_data(df):\n",
    "    # Normalise temporal data to sin(pi*t/(L+1)) to ensure correct periodicity\n",
    "    # Need to figure these out properly...\n",
    "    df['num_flight_month']=np.sin(np.pi*df['num_flight_month']/13)\n",
    "    df['num_flight_weekofyear']=np.sin(np.pi*df['num_flight_weekofyear']/53)\n",
    "    df['num_flight_dayofweek']=np.sin(np.pi*df['num_flight_dayofweek']/8)\n",
    "    df['cat_sdt_hour']=np.sin(np.pi*df['cat_sdt_hour']/25)\n",
    "\n",
    "    # Normalise Ordinal data from 0 - 1\n",
    "    df['ord_leisure']=df['ord_leisure']/5.0\n",
    "    df['ord_irish_residents']=df['ord_irish_residents']/5.0\n",
    "    df['ord_trip_duration']=df['ord_trip_duration']/5.0\n",
    "    df['ord_female']=df['ord_female']/5.0\n",
    "    df['ord_party_size']=df['ord_party_size']/5.0\n",
    "    df['ord_bag_checkin']=df['ord_bag_checkin']/5.0\n",
    "    df['ord_arrive_by_car']=df['ord_arrive_by_car']/5.0\n",
    "\n",
    "    return df\n"
   ]
  },
  {
   "cell_type": "markdown",
   "metadata": {
    "collapsed": true
   },
   "source": [
    "### Function to Calculate Score of Model"
   ]
  },
  {
   "cell_type": "code",
   "execution_count": 33,
   "metadata": {
    "collapsed": true
   },
   "outputs": [],
   "source": [
    "def calculate_score(df_target_cases, df_predictions):\n",
    "    '''Root-mean-squared error is the chosen error metric. This function calculates and returns the root-mean-squared error'''\n",
    "    f_rmse = np.sqrt(mean_squared_error(df_target_cases, df_predictions))\n",
    "    return f_rmse"
   ]
  },
  {
   "cell_type": "markdown",
   "metadata": {
    "collapsed": false
   },
   "source": [
    "### Read, Normalise and Extract Test/Train Data sets"
   ]
  },
  {
   "cell_type": "code",
   "execution_count": 22,
   "metadata": {
    "collapsed": false
   },
   "outputs": [],
   "source": [
    "###################################\n",
    "# Read in csv file and parse dates.\n",
    "###################################\n",
    "\n",
    "# Training data\n",
    "df_train = pd.read_csv(\"./train.csv\", parse_dates = parse_date_cols)\n",
    "\n",
    "# Test data\n",
    "df_test = pd.read_csv(\"./test.csv\", parse_dates = parse_date_cols)\n",
    "\n",
    "\n",
    "###################################\n",
    "# Normalise Data sets\n",
    "###################################\n",
    "\n",
    "df_train=normalise_data(df_train)\n",
    "df_test=normalise_data(df_test)\n",
    "\n",
    "###################################\n",
    "# Extract Test/Training Data\n",
    "###################################\n",
    "\n",
    "# Data to initially be trained against\n",
    "df_tr_target=df_train[df_train['cat_case_type']=='Target']\n",
    "\n",
    "# Data to be used for training\n",
    "df_tr_expl=df_train[df_train['cat_case_type']=='Expl']\n",
    "\n",
    "# Data to eventually be predicted\n",
    "df_test_target=df_test[df_test['cat_case_type']=='Target']\n",
    "\n",
    "# Data to be used in prediction\n",
    "df_test_expl=df_test[df_test['cat_case_type']=='Target']"
   ]
  },
  {
   "cell_type": "code",
   "execution_count": 85,
   "metadata": {
    "collapsed": false
   },
   "outputs": [
    {
     "name": "stdout",
     "output_type": "stream",
     "text": [
      "(500, 46)\n"
     ]
    }
   ],
   "source": [
    "df_tr_target_sample=df_tr_target.sample(n=500)\n",
    "print(df_tr_target_sample.shape)"
   ]
  },
  {
   "cell_type": "markdown",
   "metadata": {
    "collapsed": false
   },
   "source": [
    "### Module to compute K-Nearest Neighbours on Target Data"
   ]
  },
  {
   "cell_type": "code",
   "execution_count": 133,
   "metadata": {
    "collapsed": true
   },
   "outputs": [],
   "source": [
    "# WARNING: Takes ~30 mins to train\n",
    "def test_knn(nn,df):\n",
    "    #print(\"Start Time:\",datetime.datetime.now().time())\n",
    "\n",
    "    # Model solutions dataset\n",
    "    df_model=[]\n",
    "\n",
    "    # Loop over all the Target dates\n",
    "    for test_index, test_row in df.iterrows(): \n",
    "\n",
    "    \n",
    "        # Filter for training_flight_dates before target_prediction_date\n",
    "        X=df_train[(df_tr_expl['s_model_type']==test_row['s_model_type'])&\\\n",
    "             (df_train['dt_flight_date']<test_row['dt_prediction_date'])]\n",
    "    \n",
    "        # Select only the columns of interest\n",
    "        X=X[interesting_cols]\n",
    "    \n",
    "        # Compute Neareset Neighbours for this flight in historical data\n",
    "        nbrs = NearestNeighbors(n_neighbors=nn, algorithm='auto').fit(X)\n",
    "        distances, indices = nbrs.kneighbors(test_row[interesting_cols])\n",
    "\n",
    "        # Introduce weighting to the model based on distance in feature-space\n",
    "        w=np.exp(-distances)\n",
    "        w=w/sum(sum(w))\n",
    "    \n",
    "        # Compute the pax arrival times based on weighted average of similar flights\n",
    "        model=np.average(df_train.iloc[indices[0]][pax_list],axis=0,weights=w[0])\n",
    "    \n",
    "        df_model.append([test_row['id']]+model.tolist())\n",
    "\n",
    "    # Convert model solution to DataFrame and write to file\n",
    "    df_model=pd.DataFrame(df_model, columns=cols).set_index('id')\n",
    "    df_model.to_csv(\"glenn_test.csv\")\n",
    "    #print(\"End Time:\",datetime.datetime.now().time())\n",
    "\n",
    "    return df_model\n",
    "\n",
    "\n"
   ]
  },
  {
   "cell_type": "markdown",
   "metadata": {},
   "source": []
  },
  {
   "cell_type": "code",
   "execution_count": 84,
   "metadata": {
    "collapsed": false
   },
   "outputs": [],
   "source": []
  },
  {
   "cell_type": "markdown",
   "metadata": {
    "collapsed": false
   },
   "source": [
    "### Calculate Score against Number of Nearest Neighbours"
   ]
  },
  {
   "cell_type": "code",
   "execution_count": 134,
   "metadata": {
    "collapsed": false
   },
   "outputs": [
    {
     "ename": "SyntaxError",
     "evalue": "unexpected EOF while parsing (<ipython-input-134-36212a7dcead>, line 4)",
     "output_type": "error",
     "traceback": [
      "\u001b[0;36m  File \u001b[0;32m\"<ipython-input-134-36212a7dcead>\"\u001b[0;36m, line \u001b[0;32m4\u001b[0m\n\u001b[0;31m    #print(N,calculate_score(df_tr_target_sample[pax_list].fillna(0),solution))\u001b[0m\n\u001b[0m                                                                               ^\u001b[0m\n\u001b[0;31mSyntaxError\u001b[0m\u001b[0;31m:\u001b[0m unexpected EOF while parsing\n"
     ]
    }
   ],
   "source": [
    "for N in range(30,70,20):\n",
    "    #print(N)\n",
    "    #solution=test_knn(N,df_tr_target_sample)\n",
    "    #print(N,calculate_score(df_tr_target_sample[pax_list].fillna(0),solution))"
   ]
  },
  {
   "cell_type": "code",
   "execution_count": 132,
   "metadata": {
    "collapsed": false
   },
   "outputs": [
    {
     "data": {
      "image/png": "[encoded data removed]",
      "text/plain": [
       "<matplotlib.figure.Figure at 0x10ba24630>"
      ]
     },
     "metadata": {},
     "output_type": "display_data"
    }
   ],
   "source": [
    "nntest=[5,10,15,20,30,40,50,60,80,100]\n",
    "nnerror=[9.23190178068,8.84629697828,8.77161623894,\\\n",
    "         8.71266294321,8.64395002671,8.61318862677,\\\n",
    "         8.5884551726,8.60094136043,\\\n",
    "         8.58886932675,8.58070780619]\n",
    "\n",
    "plt.scatter(nntest,nnerror,s=60)\n",
    "line1=plt.plot(nntest,nnerror,label='500 Random Samples')\n",
    "plt.xlabel('Neareast Neighbours')\n",
    "plt.ylabel('RMS Error')\n",
    "plt.legend(handles=line1)\n",
    "plt.savefig(\"knn_convergence.png\",bbox_inches='tight')"
   ]
  },
  {
   "cell_type": "markdown",
   "metadata": {},
   "source": [
    "###  Run Full KNN Model"
   ]
  },
  {
   "cell_type": "code",
   "execution_count": 136,
   "metadata": {
    "collapsed": true
   },
   "outputs": [],
   "source": [
    "best_NN=40\n",
    "df_model=test_knn(best_NN,df_tr_target)"
   ]
  },
  {
   "cell_type": "code",
   "execution_count": 138,
   "metadata": {
    "collapsed": false
   },
   "outputs": [
    {
     "name": "stdout",
     "output_type": "stream",
     "text": [
      "8.67477030602\n"
     ]
    }
   ],
   "source": [
    "print(calculate_score(df_tr_target[pax_list].fillna(0),df_model))"
   ]
  },
  {
   "cell_type": "markdown",
   "metadata": {},
   "source": [
    "### Test Random Target Flight"
   ]
  },
  {
   "cell_type": "code",
   "execution_count": 166,
   "metadata": {
    "collapsed": false
   },
   "outputs": [
    {
     "name": "stdout",
     "output_type": "stream",
     "text": [
      "Flight ID:\t\t 5244\n",
      "Flight no:\t\t 602\n",
      "Prediction Date:\t 2014-09-07 00:00:00\n",
      "Target Date:\t\t 2014-09-08 00:00:00\n",
      "Model Type:\t\t 01_day\n",
      "\n",
      "RMS Error =  8.08900825887\n"
     ]
    },
    {
     "data": {
      "image/png": "[encoded data removed]",
      "text/plain": [
       "<matplotlib.figure.Figure at 0x10a878160>"
      ]
     },
     "metadata": {},
     "output_type": "display_data"
    }
   ],
   "source": [
    "# Choose random flight from training data\n",
    "r=random.randint(df_tr_target['id'].min(),df_tr_target['id'].max())\n",
    "flight=df_tr_target.iloc[r]\n",
    "\n",
    "# Basic Info about Flight\n",
    "print (\"Flight ID:\\t\\t\",flight['id'])\n",
    "print (\"Flight no:\\t\\t\",flight['cat_i_flightno'])\n",
    "print (\"Prediction Date:\\t\",flight['dt_prediction_date'])\n",
    "print (\"Target Date:\\t\\t\",flight['dt_target_date'])\n",
    "print (\"Model Type:\\t\\t\",flight['s_model_type'])\n",
    "\n",
    "\n",
    "# Error compared to Actual Flight\n",
    "model=df_model.iloc[r]\n",
    "\n",
    "stderr=sum(((model.values-flight[pax_list].values)**2)/17)**0.5\n",
    "print(\"\\nRMS Error = \",stderr)\n",
    "\n",
    "df_historical=df_tr_expl[(df_tr_expl['cat_i_flightno']==flight['cat_i_flightno']) &\\\n",
    "                     (df_tr_expl['s_model_type']==flight['s_model_type'])&\\\n",
    "                     (df_tr_expl['dt_flight_date']<flight['dt_prediction_date'])]\n",
    "\n",
    "if df_historical[pax_list].size<=17: \n",
    "    print (\"\\nNo Historical Data Available\")\n",
    "    \n",
    "else:\n",
    "    \n",
    "    historical=df_historical[pax_list].as_matrix()\n",
    "    \n",
    "\n",
    "    # Plot Model Prediction\n",
    "    ax=sns.tsplot(data=model,color='r',legend=True,condition=\"Model Solution\")\n",
    "    # Actual Solution\n",
    "    ax=sns.tsplot(data=flight[pax_list],color='b',legend=True,condition=\"Actual\")\n",
    "    # Historical Data\n",
    "    ax=sns.tsplot(data=historical,color=\"g\",legend=True,condition=\"Historical\")\n",
    "\n",
    "    ax.figure.savefig(str(flight['id'])+'_'+str(flight['s_model_type'])+'.png',bbox_inches='tight')\n"
   ]
  },
  {
   "cell_type": "code",
   "execution_count": 140,
   "metadata": {
    "collapsed": false
   },
   "outputs": [
    {
     "data": {
      "text/plain": [
       "<matplotlib.figure.Figure at 0x10d550400>"
      ]
     },
     "metadata": {},
     "output_type": "display_data"
    }
   ],
   "source": []
  },
  {
   "cell_type": "code",
   "execution_count": null,
   "metadata": {
    "collapsed": false
   },
   "outputs": [],
   "source": [
    "\n",
    "    "
   ]
  },
  {
   "cell_type": "markdown",
   "metadata": {},
   "source": []
  },
  {
   "cell_type": "code",
   "execution_count": null,
   "metadata": {
    "collapsed": false
   },
   "outputs": [],
   "source": []
  },
  {
   "cell_type": "markdown",
   "metadata": {},
   "source": []
  },
  {
   "cell_type": "code",
   "execution_count": null,
   "metadata": {
    "collapsed": false,
    "scrolled": false
   },
   "outputs": [],
   "source": []
  },
  {
   "cell_type": "markdown",
   "metadata": {},
   "source": []
  },
  {
   "cell_type": "code",
   "execution_count": null,
   "metadata": {
    "collapsed": false
   },
   "outputs": [],
   "source": []
  },
  {
   "cell_type": "code",
   "execution_count": null,
   "metadata": {
    "collapsed": false
   },
   "outputs": [],
   "source": []
  },
  {
   "cell_type": "markdown",
   "metadata": {},
   "source": []
  },
  {
   "cell_type": "code",
   "execution_count": null,
   "metadata": {
    "collapsed": false
   },
   "outputs": [],
   "source": []
  },
  {
   "cell_type": "code",
   "execution_count": null,
   "metadata": {
    "collapsed": false
   },
   "outputs": [],
   "source": []
  },
  {
   "cell_type": "code",
   "execution_count": null,
   "metadata": {
    "collapsed": false,
    "scrolled": true
   },
   "outputs": [],
   "source": [
    "\n",
    "\n"
   ]
  },
  {
   "cell_type": "code",
   "execution_count": null,
   "metadata": {
    "collapsed": false
   },
   "outputs": [],
   "source": []
  },
  {
   "cell_type": "code",
   "execution_count": null,
   "metadata": {
    "collapsed": false
   },
   "outputs": [],
   "source": []
  },
  {
   "cell_type": "code",
   "execution_count": null,
   "metadata": {
    "collapsed": true
   },
   "outputs": [],
   "source": []
  }
 ],
 "metadata": {
  "kernelspec": {
   "display_name": "Python 3",
   "language": "python",
   "name": "python3"
  },
  "language_info": {
   "codemirror_mode": {
    "name": "ipython",
    "version": 3
   },
   "file_extension": ".py",
   "mimetype": "text/x-python",
   "name": "python",
   "nbconvert_exporter": "python",
   "pygments_lexer": "ipython3",
   "version": "3.5.2"
  }
 },
 "nbformat": 4,
 "nbformat_minor": 1
}
